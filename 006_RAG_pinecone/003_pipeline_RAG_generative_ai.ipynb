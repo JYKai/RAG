{
 "cells": [
  {
   "cell_type": "code",
   "execution_count": 1,
   "metadata": {},
   "outputs": [
    {
     "data": {
      "text/plain": [
       "True"
      ]
     },
     "execution_count": 1,
     "metadata": {},
     "output_type": "execute_result"
    }
   ],
   "source": [
    "import os\n",
    "\n",
    "from dotenv import load_dotenv\n",
    "\n",
    "load_dotenv()"
   ]
  },
  {
   "cell_type": "code",
   "execution_count": 2,
   "metadata": {},
   "outputs": [],
   "source": [
    "from pinecone import Pinecone, ServerlessSpec\n",
    "\n",
    "pc = Pinecone(api_key=os.getenv(\"PINECONE_API_KEY\"))"
   ]
  },
  {
   "cell_type": "code",
   "execution_count": 3,
   "metadata": {},
   "outputs": [],
   "source": [
    "index_name = \"bank-index-50000\"\n",
    "cloud = \"aws\"\n",
    "region = \"us-east-1\"\n",
    "\n",
    "spec = ServerlessSpec(cloud=cloud, region=region)"
   ]
  },
  {
   "cell_type": "code",
   "execution_count": 4,
   "metadata": {},
   "outputs": [
    {
     "data": {
      "text/plain": [
       "{'dimension': 1536,\n",
       " 'index_fullness': 0.0,\n",
       " 'metric': 'cosine',\n",
       " 'namespaces': {'': {'vector_count': 50000}},\n",
       " 'total_vector_count': 50000,\n",
       " 'vector_type': 'dense'}"
      ]
     },
     "execution_count": 4,
     "metadata": {},
     "output_type": "execute_result"
    }
   ],
   "source": [
    "# connect to index\n",
    "index = pc.Index(index_name)\n",
    "# view index stats\n",
    "index.describe_index_stats()"
   ]
  },
  {
   "cell_type": "code",
   "execution_count": 5,
   "metadata": {},
   "outputs": [],
   "source": [
    "import openai\n",
    "import time\n",
    "\n",
    "embedding_model = \"text-embedding-3-small\"\n",
    "\n",
    "# Initialize the OpenAI client\n",
    "client = openai.OpenAI()\n",
    "\n",
    "def get_embedding(text, model=embedding_model):\n",
    "    text = text.replace(\"\\n\", \" \")\n",
    "    response = client.embeddings.create(input=[text], model=model)\n",
    "    embedding = response.data[0].embedding\n",
    "    return embedding"
   ]
  },
  {
   "cell_type": "code",
   "execution_count": 6,
   "metadata": {},
   "outputs": [],
   "source": [
    "import time\n",
    "start_time = time.time()  # Start timing before the request\n",
    "# Target vector\n",
    "query_text = \"Customer Henderson CreditScore 599 Age 37Tenure 2Balance 0.0NumOfProducts 1HasCrCard 1IsActiveMember 1EstimatedSalary 107000.88Exited 1Complain 1Satisfaction Score 2Card Type DIAMONDPoint Earned 501\"\n",
    "query_embedding = get_embedding(query_text,model=embedding_model)"
   ]
  },
  {
   "cell_type": "code",
   "execution_count": 7,
   "metadata": {},
   "outputs": [
    {
     "name": "stdout",
     "output_type": "stream",
     "text": [
      "Query Results:\n",
      "ID: 1687, Score: 0.856137872\n",
      "Text: CustomerId: 15648064 CreditScore: 649 Age: 33 Tenure: 2 Balance: 0.0 NumOfProducts: 2 HasCrCard: 1 IsActiveMember: 0 EstimatedSalary: 2010.98 Exited: 0 Complain: 0 Satisfaction Score: 3 Card Type: DIAMOND Point Earned: 720\n",
      "Querying response time: 15.37 seconds\n"
     ]
    }
   ],
   "source": [
    "# Perform the query using the embedding\n",
    "query_results = index.query(\n",
    "    vector=query_embedding,\n",
    "    include_metadata=True,\n",
    "    top_k=1\n",
    ")\n",
    "# Print the query results along with metadata\n",
    "print(\"Query Results:\")\n",
    "for match in query_results['matches']:\n",
    "    print(f\"ID: {match['id']}, Score: {match['score']}\")\n",
    "    if 'metadata' in match and 'text' in match['metadata']:\n",
    "        print(f\"Text: {match['metadata']['text']}\")\n",
    "    else:\n",
    "        print(\"No metadata available.\")\n",
    "\n",
    "response_time = time.time() - start_time              # Measure response time\n",
    "print(f\"Querying response time: {response_time:.2f} seconds\")  # Print response time"
   ]
  },
  {
   "cell_type": "code",
   "execution_count": 8,
   "metadata": {},
   "outputs": [
    {
     "name": "stdout",
     "output_type": "stream",
     "text": [
      "CustomerId: 15648064 CreditScore: 649 Age: 33 Tenure: 2 Balance: 0.0 NumOfProducts: 2 HasCrCard: 1 IsActiveMember: 0 EstimatedSalary: 2010.98 Exited: 0 Complain: 0 Satisfaction Score: 3 Card Type: DIAMOND Point Earned: 720\n"
     ]
    }
   ],
   "source": [
    "relevant_texts = [match['metadata']['text'] for match in query_results['matches'] if 'metadata' in match and 'text' in match['metadata']]\n",
    "\n",
    "combined_text = \"\\n\".join(relevant_texts)\n",
    "print(combined_text)"
   ]
  },
  {
   "cell_type": "code",
   "execution_count": 9,
   "metadata": {},
   "outputs": [
    {
     "name": "stdout",
     "output_type": "stream",
     "text": [
      "Prompt for the Generative AI model: I have this customer bank record with interesting information on age, credit score and more and similar customers. What could I suggest to keep them in my bank in an email with an url to get new advantages based on the fields for each Customer ID:Customer Henderson CreditScore 599 Age 37Tenure 2Balance 0.0NumOfProducts 1HasCrCard 1IsActiveMember 1EstimatedSalary 107000.88Exited 1Complain 1Satisfaction Score 2Card Type DIAMONDPoint Earned 501CustomerId: 15648064 CreditScore: 649 Age: 33 Tenure: 2 Balance: 0.0 NumOfProducts: 2 HasCrCard: 1 IsActiveMember: 0 EstimatedSalary: 2010.98 Exited: 0 Complain: 0 Satisfaction Score: 3 Card Type: DIAMOND Point Earned: 720\n"
     ]
    }
   ],
   "source": [
    "# Combine texts into a single string, separated by new lines\n",
    "combined_context = \"\\n\".join(relevant_texts)\n",
    "#prompt\n",
    "query_prompt=\"I have this customer bank record with interesting information on age, credit score and more and similar customers. What could I suggest to keep them in my bank in an email with an url to get new advantages based on the fields for each Customer ID:\"\n",
    "itext=query_prompt+ query_text+combined_context\n",
    "# Augmented input\n",
    "print(\"Prompt for the Generative AI model:\", itext)"
   ]
  },
  {
   "cell_type": "code",
   "execution_count": 10,
   "metadata": {},
   "outputs": [
    {
     "name": "stdout",
     "output_type": "stream",
     "text": [
      "Subject: Exclusive Benefits Await You at Our Bank!\n",
      "\n",
      "Dear Valued Customer,\n",
      "\n",
      "We hope this message finds you well. At [Bank Name], we are constantly striving to enhance your banking experience and provide you with the best possible services tailored to your needs.\n",
      "\n",
      "We noticed that you have been with us for a while, and we truly value your loyalty. To show our appreciation, we are excited to offer you exclusive benefits that are designed to make your banking experience even more rewarding.\n",
      "\n",
      "**Here’s what you can look forward to:**\n",
      "\n",
      "1. **Enhanced Rewards Program:** As a DIAMOND cardholder, you can now earn more points on every transaction. Redeem these points for exciting rewards and experiences.\n",
      "\n",
      "2. **Personalized Financial Advice:** Our team of financial experts is here to help you make the most of your finances. Schedule a free consultation to explore investment opportunities and savings plans that suit your lifestyle.\n",
      "\n",
      "3. **Exclusive Offers and Discounts:** Enjoy special discounts and offers from our partner merchants. Whether it's dining, travel, or shopping, we have something for everyone.\n",
      "\n",
      "4. **Priority Customer Support:** As a valued customer, you will receive priority access to our customer support team, ensuring that your queries and concerns are addressed promptly.\n",
      "\n",
      "To take advantage of these benefits, simply click on the link below and explore the new opportunities awaiting you:\n",
      "\n",
      "[Explore Your Benefits Now](#)\n",
      "\n",
      "We are committed to providing you with exceptional service and look forward to continuing to serve you. If you have any questions or\n",
      "Querying response time: 5.53 seconds\n"
     ]
    }
   ],
   "source": [
    "gpt_model = \"gpt-4o\"\n",
    "\n",
    "import time\n",
    "start_time = time.time()  # Start timing before the request\n",
    "\n",
    "response = client.chat.completions.create(\n",
    "  model=gpt_model,\n",
    "  messages=[\n",
    "    {\n",
    "      \"role\": \"system\",\n",
    "      \"content\": \"You are the community manager can write engaging email based on the text you have. Do not use a surname but simply Dear Valued Customer instead.\"\n",
    "    },\n",
    "    {\n",
    "      \"role\": \"user\",\n",
    "      \"content\": itext\n",
    "    }\n",
    "  ],\n",
    "  temperature=0,\n",
    "  max_tokens=300,\n",
    "  top_p=1,\n",
    "  frequency_penalty=0,\n",
    "  presence_penalty=0\n",
    ")\n",
    "print(response.choices[0].message.content)\n",
    "\n",
    "response_time = time.time() - start_time              # Measure response time\n",
    "print(f\"Querying response time: {response_time:.2f} seconds\")  # Print response time"
   ]
  },
  {
   "cell_type": "code",
   "execution_count": null,
   "metadata": {},
   "outputs": [],
   "source": []
  }
 ],
 "metadata": {
  "kernelspec": {
   "display_name": "Python 3",
   "language": "python",
   "name": "python3"
  },
  "language_info": {
   "codemirror_mode": {
    "name": "ipython",
    "version": 3
   },
   "file_extension": ".py",
   "mimetype": "text/x-python",
   "name": "python",
   "nbconvert_exporter": "python",
   "pygments_lexer": "ipython3",
   "version": "3.11.undefined"
  }
 },
 "nbformat": 4,
 "nbformat_minor": 2
}
