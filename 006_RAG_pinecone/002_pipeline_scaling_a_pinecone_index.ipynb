{
 "cells": [
  {
   "cell_type": "code",
   "execution_count": 1,
   "metadata": {},
   "outputs": [
    {
     "data": {
      "text/plain": [
       "True"
      ]
     },
     "execution_count": 1,
     "metadata": {},
     "output_type": "execute_result"
    }
   ],
   "source": [
    "import os\n",
    "from dotenv import load_dotenv\n",
    "\n",
    "load_dotenv()"
   ]
  },
  {
   "cell_type": "code",
   "execution_count": 2,
   "metadata": {},
   "outputs": [],
   "source": [
    "import pandas as pd\n",
    "\n",
    "file_path = \"./data1.csv\"\n",
    "data1 = pd.read_csv(file_path)"
   ]
  },
  {
   "cell_type": "code",
   "execution_count": 3,
   "metadata": {},
   "outputs": [
    {
     "name": "stdout",
     "output_type": "stream",
     "text": [
      "Number of lines in the file: 10000\n"
     ]
    }
   ],
   "source": [
    "number_of_lines = len(data1)\n",
    "print(f\"Number of lines in the file: {number_of_lines}\")"
   ]
  },
  {
   "cell_type": "code",
   "execution_count": 4,
   "metadata": {},
   "outputs": [
    {
     "data": {
      "text/html": [
       "<div>\n",
       "<style scoped>\n",
       "    .dataframe tbody tr th:only-of-type {\n",
       "        vertical-align: middle;\n",
       "    }\n",
       "\n",
       "    .dataframe tbody tr th {\n",
       "        vertical-align: top;\n",
       "    }\n",
       "\n",
       "    .dataframe thead th {\n",
       "        text-align: right;\n",
       "    }\n",
       "</style>\n",
       "<table border=\"1\" class=\"dataframe\">\n",
       "  <thead>\n",
       "    <tr style=\"text-align: right;\">\n",
       "      <th></th>\n",
       "      <th>CustomerId</th>\n",
       "      <th>CreditScore</th>\n",
       "      <th>Age</th>\n",
       "      <th>Tenure</th>\n",
       "      <th>Balance</th>\n",
       "      <th>NumOfProducts</th>\n",
       "      <th>HasCrCard</th>\n",
       "      <th>IsActiveMember</th>\n",
       "      <th>EstimatedSalary</th>\n",
       "      <th>Exited</th>\n",
       "      <th>Complain</th>\n",
       "      <th>Satisfaction Score</th>\n",
       "      <th>Card Type</th>\n",
       "      <th>Point Earned</th>\n",
       "    </tr>\n",
       "  </thead>\n",
       "  <tbody>\n",
       "    <tr>\n",
       "      <th>0</th>\n",
       "      <td>15634602</td>\n",
       "      <td>619</td>\n",
       "      <td>42</td>\n",
       "      <td>2</td>\n",
       "      <td>0.00</td>\n",
       "      <td>1</td>\n",
       "      <td>1</td>\n",
       "      <td>1</td>\n",
       "      <td>101348.88</td>\n",
       "      <td>1</td>\n",
       "      <td>1</td>\n",
       "      <td>2</td>\n",
       "      <td>DIAMOND</td>\n",
       "      <td>464</td>\n",
       "    </tr>\n",
       "    <tr>\n",
       "      <th>1</th>\n",
       "      <td>15647311</td>\n",
       "      <td>608</td>\n",
       "      <td>41</td>\n",
       "      <td>1</td>\n",
       "      <td>83807.86</td>\n",
       "      <td>1</td>\n",
       "      <td>0</td>\n",
       "      <td>1</td>\n",
       "      <td>112542.58</td>\n",
       "      <td>0</td>\n",
       "      <td>1</td>\n",
       "      <td>3</td>\n",
       "      <td>DIAMOND</td>\n",
       "      <td>456</td>\n",
       "    </tr>\n",
       "    <tr>\n",
       "      <th>2</th>\n",
       "      <td>15619304</td>\n",
       "      <td>502</td>\n",
       "      <td>42</td>\n",
       "      <td>8</td>\n",
       "      <td>159660.80</td>\n",
       "      <td>3</td>\n",
       "      <td>1</td>\n",
       "      <td>0</td>\n",
       "      <td>113931.57</td>\n",
       "      <td>1</td>\n",
       "      <td>1</td>\n",
       "      <td>3</td>\n",
       "      <td>DIAMOND</td>\n",
       "      <td>377</td>\n",
       "    </tr>\n",
       "  </tbody>\n",
       "</table>\n",
       "</div>"
      ],
      "text/plain": [
       "   CustomerId  CreditScore  Age  Tenure    Balance  NumOfProducts  HasCrCard  \\\n",
       "0    15634602          619   42       2       0.00              1          1   \n",
       "1    15647311          608   41       1   83807.86              1          0   \n",
       "2    15619304          502   42       8  159660.80              3          1   \n",
       "\n",
       "   IsActiveMember  EstimatedSalary  Exited  Complain  Satisfaction Score  \\\n",
       "0               1        101348.88       1         1                   2   \n",
       "1               1        112542.58       0         1                   3   \n",
       "2               0        113931.57       1         1                   3   \n",
       "\n",
       "  Card Type  Point Earned  \n",
       "0   DIAMOND           464  \n",
       "1   DIAMOND           456  \n",
       "2   DIAMOND           377  "
      ]
     },
     "execution_count": 4,
     "metadata": {},
     "output_type": "execute_result"
    }
   ],
   "source": [
    "data1.head(3)"
   ]
  },
  {
   "cell_type": "code",
   "execution_count": 8,
   "metadata": {},
   "outputs": [],
   "source": [
    "output_lines = []\n",
    "\n",
    "for index, row in data1.iterrows():\n",
    "    row_data = [f\"{col}: {row[col]}\" for col in data1.columns]\n",
    "    line = \" \".join(row_data)\n",
    "    output_lines.append(line)"
   ]
  },
  {
   "cell_type": "code",
   "execution_count": 11,
   "metadata": {},
   "outputs": [
    {
     "name": "stdout",
     "output_type": "stream",
     "text": [
      "CustomerId: 15634602 CreditScore: 619 Age: 42 Tenure: 2 Balance: 0.0 NumOfProducts: 1 HasCrCard: 1 IsActiveMember: 1 EstimatedSalary: 101348.88 Exited: 1 Complain: 1 Satisfaction Score: 2 Card Type: DIAMOND Point Earned: 464\n",
      "------------------------------------------------------------------------------------------------------------------------------------------------------\n",
      "CustomerId: 15647311 CreditScore: 608 Age: 41 Tenure: 1 Balance: 83807.86 NumOfProducts: 1 HasCrCard: 0 IsActiveMember: 1 EstimatedSalary: 112542.58 Exited: 0 Complain: 1 Satisfaction Score: 3 Card Type: DIAMOND Point Earned: 456\n",
      "------------------------------------------------------------------------------------------------------------------------------------------------------\n",
      "CustomerId: 15619304 CreditScore: 502 Age: 42 Tenure: 8 Balance: 159660.8 NumOfProducts: 3 HasCrCard: 1 IsActiveMember: 0 EstimatedSalary: 113931.57 Exited: 1 Complain: 1 Satisfaction Score: 3 Card Type: DIAMOND Point Earned: 377\n",
      "------------------------------------------------------------------------------------------------------------------------------------------------------\n",
      "CustomerId: 15701354 CreditScore: 699 Age: 39 Tenure: 1 Balance: 0.0 NumOfProducts: 2 HasCrCard: 0 IsActiveMember: 0 EstimatedSalary: 93826.63 Exited: 0 Complain: 0 Satisfaction Score: 5 Card Type: GOLD Point Earned: 350\n",
      "------------------------------------------------------------------------------------------------------------------------------------------------------\n",
      "CustomerId: 15737888 CreditScore: 850 Age: 43 Tenure: 2 Balance: 125510.82 NumOfProducts: 1 HasCrCard: 1 IsActiveMember: 1 EstimatedSalary: 79084.1 Exited: 0 Complain: 0 Satisfaction Score: 5 Card Type: GOLD Point Earned: 425\n",
      "------------------------------------------------------------------------------------------------------------------------------------------------------\n"
     ]
    }
   ],
   "source": [
    "for line in output_lines[:5]:\n",
    "    print(line)\n",
    "    print(\"-\"*150)"
   ]
  },
  {
   "cell_type": "code",
   "execution_count": 12,
   "metadata": {},
   "outputs": [],
   "source": [
    "lines = output_lines.copy()"
   ]
  },
  {
   "cell_type": "code",
   "execution_count": 16,
   "metadata": {},
   "outputs": [
    {
     "data": {
      "text/plain": [
       "['CustomerId: 15634602 CreditScore: 619 Age: 42 Tenure: 2 Balance: 0.0 NumOfProducts: 1 HasCrCard: 1 IsActiveMember: 1 EstimatedSalary: 101348.88 Exited: 1 Complain: 1 Satisfaction Score: 2 Card Type: DIAMOND Point Earned: 464',\n",
       " 'CustomerId: 15647311 CreditScore: 608 Age: 41 Tenure: 1 Balance: 83807.86 NumOfProducts: 1 HasCrCard: 0 IsActiveMember: 1 EstimatedSalary: 112542.58 Exited: 0 Complain: 1 Satisfaction Score: 3 Card Type: DIAMOND Point Earned: 456',\n",
       " 'CustomerId: 15619304 CreditScore: 502 Age: 42 Tenure: 8 Balance: 159660.8 NumOfProducts: 3 HasCrCard: 1 IsActiveMember: 0 EstimatedSalary: 113931.57 Exited: 1 Complain: 1 Satisfaction Score: 3 Card Type: DIAMOND Point Earned: 377',\n",
       " 'CustomerId: 15701354 CreditScore: 699 Age: 39 Tenure: 1 Balance: 0.0 NumOfProducts: 2 HasCrCard: 0 IsActiveMember: 0 EstimatedSalary: 93826.63 Exited: 0 Complain: 0 Satisfaction Score: 5 Card Type: GOLD Point Earned: 350',\n",
       " 'CustomerId: 15737888 CreditScore: 850 Age: 43 Tenure: 2 Balance: 125510.82 NumOfProducts: 1 HasCrCard: 1 IsActiveMember: 1 EstimatedSalary: 79084.1 Exited: 0 Complain: 0 Satisfaction Score: 5 Card Type: GOLD Point Earned: 425']"
      ]
     },
     "execution_count": 16,
     "metadata": {},
     "output_type": "execute_result"
    }
   ],
   "source": [
    "lines[:5]"
   ]
  },
  {
   "cell_type": "code",
   "execution_count": 13,
   "metadata": {},
   "outputs": [
    {
     "name": "stdout",
     "output_type": "stream",
     "text": [
      "Number of lines in the file: 10000\n"
     ]
    }
   ],
   "source": [
    "number_of_lines = len(lines)\n",
    "print(f\"Number of lines in the file: {number_of_lines}\")"
   ]
  },
  {
   "cell_type": "code",
   "execution_count": 14,
   "metadata": {},
   "outputs": [
    {
     "name": "stdout",
     "output_type": "stream",
     "text": [
      "Total number of chunks: 10000\n"
     ]
    }
   ],
   "source": [
    "chunks = []\n",
    "\n",
    "for line in lines:\n",
    "    chunks.append(line)\n",
    "\n",
    "print(f\"Total number of chunks: {len(chunks)}\")"
   ]
  },
  {
   "cell_type": "code",
   "execution_count": 15,
   "metadata": {},
   "outputs": [
    {
     "data": {
      "text/plain": [
       "['CustomerId: 15634602 CreditScore: 619 Age: 42 Tenure: 2 Balance: 0.0 NumOfProducts: 1 HasCrCard: 1 IsActiveMember: 1 EstimatedSalary: 101348.88 Exited: 1 Complain: 1 Satisfaction Score: 2 Card Type: DIAMOND Point Earned: 464',\n",
       " 'CustomerId: 15647311 CreditScore: 608 Age: 41 Tenure: 1 Balance: 83807.86 NumOfProducts: 1 HasCrCard: 0 IsActiveMember: 1 EstimatedSalary: 112542.58 Exited: 0 Complain: 1 Satisfaction Score: 3 Card Type: DIAMOND Point Earned: 456',\n",
       " 'CustomerId: 15619304 CreditScore: 502 Age: 42 Tenure: 8 Balance: 159660.8 NumOfProducts: 3 HasCrCard: 1 IsActiveMember: 0 EstimatedSalary: 113931.57 Exited: 1 Complain: 1 Satisfaction Score: 3 Card Type: DIAMOND Point Earned: 377',\n",
       " 'CustomerId: 15701354 CreditScore: 699 Age: 39 Tenure: 1 Balance: 0.0 NumOfProducts: 2 HasCrCard: 0 IsActiveMember: 0 EstimatedSalary: 93826.63 Exited: 0 Complain: 0 Satisfaction Score: 5 Card Type: GOLD Point Earned: 350',\n",
       " 'CustomerId: 15737888 CreditScore: 850 Age: 43 Tenure: 2 Balance: 125510.82 NumOfProducts: 1 HasCrCard: 1 IsActiveMember: 1 EstimatedSalary: 79084.1 Exited: 0 Complain: 0 Satisfaction Score: 5 Card Type: GOLD Point Earned: 425']"
      ]
     },
     "execution_count": 15,
     "metadata": {},
     "output_type": "execute_result"
    }
   ],
   "source": [
    "chunks[:5]"
   ]
  },
  {
   "cell_type": "code",
   "execution_count": 17,
   "metadata": {},
   "outputs": [
    {
     "name": "stdout",
     "output_type": "stream",
     "text": [
      "224\n",
      "CustomerId: 15634602 CreditScore: 619 Age: 42 Tenure: 2 Balance: 0.0 NumOfProducts: 1 HasCrCard: 1 IsActiveMember: 1 EstimatedSalary: 101348.88 Exited: 1 Complain: 1 Satisfaction Score: 2 Card Type: DIAMOND Point Earned: 464\n",
      "------------------------------------------------------------------------------------------------------------------------------------------------------\n",
      "229\n",
      "CustomerId: 15647311 CreditScore: 608 Age: 41 Tenure: 1 Balance: 83807.86 NumOfProducts: 1 HasCrCard: 0 IsActiveMember: 1 EstimatedSalary: 112542.58 Exited: 0 Complain: 1 Satisfaction Score: 3 Card Type: DIAMOND Point Earned: 456\n",
      "------------------------------------------------------------------------------------------------------------------------------------------------------\n",
      "229\n",
      "CustomerId: 15619304 CreditScore: 502 Age: 42 Tenure: 8 Balance: 159660.8 NumOfProducts: 3 HasCrCard: 1 IsActiveMember: 0 EstimatedSalary: 113931.57 Exited: 1 Complain: 1 Satisfaction Score: 3 Card Type: DIAMOND Point Earned: 377\n",
      "------------------------------------------------------------------------------------------------------------------------------------------------------\n"
     ]
    }
   ],
   "source": [
    "for i in range(3):\n",
    "    print(len(chunks[i]))\n",
    "    print(chunks[i])\n",
    "    print(\"-\"*150)"
   ]
  },
  {
   "cell_type": "code",
   "execution_count": 22,
   "metadata": {},
   "outputs": [],
   "source": [
    "import time\n",
    "import openai\n",
    "\n",
    "embedding_model = \"text-embedding-3-small\"\n",
    "\n",
    "client = openai.OpenAI()\n",
    "\n",
    "def get_embedding(texts, model=embedding_model):\n",
    "    texts = [text.replace(\"\\n\", \" \") for text in texts]\n",
    "    response = client.embeddings.create(input=texts, model=model)\n",
    "    embeddings = [res.embedding for res in response.data]\n",
    "    return embeddings"
   ]
  },
  {
   "cell_type": "code",
   "execution_count": 23,
   "metadata": {},
   "outputs": [],
   "source": [
    "def embed_chunks(chunks, embedding_model=\"text-embedding-3-small\", batch_size=1000, pause_time=3):\n",
    "    start_time = time.time()\n",
    "    embeddings = []\n",
    "    counter = 1\n",
    "\n",
    "    for i in range(0, len(chunks), batch_size):\n",
    "        chunk_batch = chunks[i: i+batch_size]\n",
    "        current_embeddings = get_embedding(chunk_batch, model=embedding_model)\n",
    "        embeddings.extend(current_embeddings)\n",
    "        print(f\"Batch {counter} embedded.\")\n",
    "        counter += 1\n",
    "        time.sleep(pause_time)\n",
    "    \n",
    "    response_time = time.time() - start_time\n",
    "    print(f\"Total response time: {response_time:.2f} seconds\")\n",
    "    \n",
    "    return embeddings"
   ]
  },
  {
   "cell_type": "code",
   "execution_count": 24,
   "metadata": {},
   "outputs": [
    {
     "name": "stdout",
     "output_type": "stream",
     "text": [
      "Batch 1 embedded.\n",
      "Batch 2 embedded.\n",
      "Batch 3 embedded.\n",
      "Batch 4 embedded.\n",
      "Batch 5 embedded.\n",
      "Batch 6 embedded.\n",
      "Batch 7 embedded.\n",
      "Batch 8 embedded.\n",
      "Batch 9 embedded.\n",
      "Batch 10 embedded.\n",
      "Total response time: 70.29 seconds\n"
     ]
    }
   ],
   "source": [
    "embeddings = embed_chunks(chunks)"
   ]
  },
  {
   "cell_type": "code",
   "execution_count": 25,
   "metadata": {},
   "outputs": [
    {
     "name": "stdout",
     "output_type": "stream",
     "text": [
      "Number of chunks: 10000\n",
      "Number of embeddings: 10000\n"
     ]
    }
   ],
   "source": [
    "num_chunks = len(chunks)\n",
    "print(f\"Number of chunks: {num_chunks}\")\n",
    "print(f\"Number of embeddings: {len(embeddings)}\")"
   ]
  },
  {
   "cell_type": "code",
   "execution_count": 26,
   "metadata": {},
   "outputs": [
    {
     "name": "stdout",
     "output_type": "stream",
     "text": [
      "Total size =  50000\n",
      "Total number of duplicated chunks: 50000\n",
      "Total number of duplicated embeddings: 50000\n"
     ]
    }
   ],
   "source": [
    "dsize = 5\n",
    "total = dsize * num_chunks\n",
    "print(\"Total size = \", total)\n",
    "\n",
    "duplicated_chunks = []\n",
    "duplicated_embeddings = []\n",
    "\n",
    "for i in range(len(chunks)):\n",
    "    for _ in range(dsize):\n",
    "        duplicated_chunks.append(chunks[i])\n",
    "        duplicated_embeddings.append(embeddings[i])\n",
    "\n",
    "print(f\"Total number of duplicated chunks: {len(duplicated_chunks)}\")\n",
    "print(f\"Total number of duplicated embeddings: {len(duplicated_embeddings)}\")"
   ]
  },
  {
   "cell_type": "markdown",
   "metadata": {},
   "source": [
    "### Pinecone Index"
   ]
  },
  {
   "cell_type": "code",
   "execution_count": 28,
   "metadata": {},
   "outputs": [
    {
     "name": "stderr",
     "output_type": "stream",
     "text": [
      "/usr/local/lib/python3.11/dist-packages/tqdm/auto.py:21: TqdmWarning: IProgress not found. Please update jupyter and ipywidgets. See https://ipywidgets.readthedocs.io/en/stable/user_install.html\n",
      "  from .autonotebook import tqdm as notebook_tqdm\n"
     ]
    }
   ],
   "source": [
    "from pinecone import Pinecone, ServerlessSpec\n",
    "\n",
    "pc = Pinecone(api_key=os.getenv(\"PINECONE_API_KEY\"))"
   ]
  },
  {
   "cell_type": "code",
   "execution_count": 29,
   "metadata": {},
   "outputs": [],
   "source": [
    "index_name = \"bank-index-50000\"\n",
    "cloud = \"aws\"\n",
    "region = \"us-east-1\"\n",
    "\n",
    "spec = ServerlessSpec(cloud=cloud, region=region)"
   ]
  },
  {
   "cell_type": "code",
   "execution_count": 30,
   "metadata": {},
   "outputs": [
    {
     "data": {
      "text/plain": [
       "{'dimension': 1536,\n",
       " 'index_fullness': 0.0,\n",
       " 'metric': 'cosine',\n",
       " 'namespaces': {},\n",
       " 'total_vector_count': 0,\n",
       " 'vector_type': 'dense'}"
      ]
     },
     "execution_count": 30,
     "metadata": {},
     "output_type": "execute_result"
    }
   ],
   "source": [
    "if index_name not in pc.list_indexes().names():\n",
    "    pc.create_index(\n",
    "        index_name,\n",
    "        dimension=1536,\n",
    "        metric=\"cosine\",\n",
    "        spec=spec\n",
    "    )\n",
    "    time.sleep(1)\n",
    "\n",
    "index = pc.Index(index_name)\n",
    "index.describe_index_stats()"
   ]
  },
  {
   "cell_type": "code",
   "execution_count": 33,
   "metadata": {},
   "outputs": [],
   "source": [
    "import sys\n",
    "\n",
    "def upsert_to_pinecone(data, batch_size):\n",
    "    for i in range(0, len(data), batch_size):\n",
    "        batch = data[i: i+batch_size]\n",
    "        index.upsert(vectors=batch)\n",
    "\n",
    "def get_batch_size(data, limit=4000000):\n",
    "    total_size = 0\n",
    "    batch_size = 0\n",
    "    for item in data:\n",
    "        item_size = sum([sys.getsizeof(v) for v in item.values()])\n",
    "        if total_size + item_size > limit:\n",
    "            break\n",
    "        total_size += item_size\n",
    "        batch_size += 1\n",
    "    return batch_size\n",
    "\n",
    "def batch_upsert(data):\n",
    "    total = len(data)\n",
    "    i = 0\n",
    "    while i < total:\n",
    "        batch_size = get_batch_size(data[i:])\n",
    "        batch = data[i: i+batch_size]\n",
    "        if batch:\n",
    "            upsert_to_pinecone(batch, batch_size)\n",
    "            i += batch_size\n",
    "            print(f\"Upserted {i}/{total} items...\")\n",
    "        else:\n",
    "            break\n",
    "    print(\"Upsert complete!\")"
   ]
  },
  {
   "cell_type": "code",
   "execution_count": 34,
   "metadata": {},
   "outputs": [
    {
     "name": "stdout",
     "output_type": "stream",
     "text": [
      "Upserted 317/50000 items...\n",
      "Upserted 634/50000 items...\n",
      "Upserted 951/50000 items...\n",
      "Upserted 1268/50000 items...\n",
      "Upserted 1585/50000 items...\n",
      "Upserted 1902/50000 items...\n",
      "Upserted 2219/50000 items...\n",
      "Upserted 2536/50000 items...\n",
      "Upserted 2853/50000 items...\n",
      "Upserted 3170/50000 items...\n",
      "Upserted 3487/50000 items...\n",
      "Upserted 3804/50000 items...\n",
      "Upserted 4121/50000 items...\n",
      "Upserted 4438/50000 items...\n",
      "Upserted 4755/50000 items...\n",
      "Upserted 5072/50000 items...\n",
      "Upserted 5389/50000 items...\n",
      "Upserted 5706/50000 items...\n",
      "Upserted 6023/50000 items...\n",
      "Upserted 6340/50000 items...\n",
      "Upserted 6657/50000 items...\n",
      "Upserted 6974/50000 items...\n",
      "Upserted 7291/50000 items...\n",
      "Upserted 7608/50000 items...\n",
      "Upserted 7925/50000 items...\n",
      "Upserted 8242/50000 items...\n",
      "Upserted 8559/50000 items...\n",
      "Upserted 8876/50000 items...\n",
      "Upserted 9193/50000 items...\n",
      "Upserted 9510/50000 items...\n",
      "Upserted 9827/50000 items...\n",
      "Upserted 10144/50000 items...\n",
      "Upserted 10461/50000 items...\n",
      "Upserted 10778/50000 items...\n",
      "Upserted 11095/50000 items...\n",
      "Upserted 11412/50000 items...\n",
      "Upserted 11729/50000 items...\n",
      "Upserted 12046/50000 items...\n",
      "Upserted 12363/50000 items...\n",
      "Upserted 12680/50000 items...\n",
      "Upserted 12997/50000 items...\n",
      "Upserted 13314/50000 items...\n",
      "Upserted 13631/50000 items...\n",
      "Upserted 13948/50000 items...\n",
      "Upserted 14265/50000 items...\n",
      "Upserted 14582/50000 items...\n",
      "Upserted 14899/50000 items...\n",
      "Upserted 15216/50000 items...\n",
      "Upserted 15533/50000 items...\n",
      "Upserted 15850/50000 items...\n",
      "Upserted 16167/50000 items...\n",
      "Upserted 16484/50000 items...\n",
      "Upserted 16801/50000 items...\n",
      "Upserted 17118/50000 items...\n",
      "Upserted 17435/50000 items...\n",
      "Upserted 17752/50000 items...\n",
      "Upserted 18069/50000 items...\n",
      "Upserted 18386/50000 items...\n",
      "Upserted 18703/50000 items...\n",
      "Upserted 19020/50000 items...\n",
      "Upserted 19337/50000 items...\n",
      "Upserted 19654/50000 items...\n",
      "Upserted 19971/50000 items...\n",
      "Upserted 20288/50000 items...\n",
      "Upserted 20605/50000 items...\n",
      "Upserted 20922/50000 items...\n",
      "Upserted 21239/50000 items...\n",
      "Upserted 21556/50000 items...\n",
      "Upserted 21873/50000 items...\n",
      "Upserted 22190/50000 items...\n",
      "Upserted 22507/50000 items...\n",
      "Upserted 22824/50000 items...\n",
      "Upserted 23141/50000 items...\n",
      "Upserted 23458/50000 items...\n",
      "Upserted 23775/50000 items...\n",
      "Upserted 24092/50000 items...\n",
      "Upserted 24409/50000 items...\n",
      "Upserted 24726/50000 items...\n",
      "Upserted 25043/50000 items...\n",
      "Upserted 25360/50000 items...\n",
      "Upserted 25677/50000 items...\n",
      "Upserted 25994/50000 items...\n",
      "Upserted 26311/50000 items...\n",
      "Upserted 26628/50000 items...\n",
      "Upserted 26945/50000 items...\n",
      "Upserted 27262/50000 items...\n",
      "Upserted 27579/50000 items...\n",
      "Upserted 27896/50000 items...\n",
      "Upserted 28213/50000 items...\n",
      "Upserted 28530/50000 items...\n",
      "Upserted 28847/50000 items...\n",
      "Upserted 29164/50000 items...\n",
      "Upserted 29481/50000 items...\n",
      "Upserted 29798/50000 items...\n",
      "Upserted 30115/50000 items...\n",
      "Upserted 30432/50000 items...\n",
      "Upserted 30749/50000 items...\n",
      "Upserted 31066/50000 items...\n",
      "Upserted 31383/50000 items...\n",
      "Upserted 31700/50000 items...\n",
      "Upserted 32017/50000 items...\n",
      "Upserted 32334/50000 items...\n",
      "Upserted 32651/50000 items...\n",
      "Upserted 32968/50000 items...\n",
      "Upserted 33285/50000 items...\n",
      "Upserted 33602/50000 items...\n",
      "Upserted 33919/50000 items...\n",
      "Upserted 34236/50000 items...\n",
      "Upserted 34553/50000 items...\n",
      "Upserted 34870/50000 items...\n",
      "Upserted 35187/50000 items...\n",
      "Upserted 35504/50000 items...\n",
      "Upserted 35821/50000 items...\n",
      "Upserted 36138/50000 items...\n",
      "Upserted 36455/50000 items...\n",
      "Upserted 36772/50000 items...\n",
      "Upserted 37089/50000 items...\n",
      "Upserted 37406/50000 items...\n",
      "Upserted 37723/50000 items...\n",
      "Upserted 38040/50000 items...\n",
      "Upserted 38357/50000 items...\n",
      "Upserted 38674/50000 items...\n",
      "Upserted 38991/50000 items...\n",
      "Upserted 39308/50000 items...\n",
      "Upserted 39625/50000 items...\n",
      "Upserted 39942/50000 items...\n",
      "Upserted 40259/50000 items...\n",
      "Upserted 40576/50000 items...\n",
      "Upserted 40893/50000 items...\n",
      "Upserted 41210/50000 items...\n",
      "Upserted 41527/50000 items...\n",
      "Upserted 41844/50000 items...\n",
      "Upserted 42161/50000 items...\n",
      "Upserted 42478/50000 items...\n",
      "Upserted 42795/50000 items...\n",
      "Upserted 43112/50000 items...\n",
      "Upserted 43429/50000 items...\n",
      "Upserted 43746/50000 items...\n",
      "Upserted 44063/50000 items...\n",
      "Upserted 44380/50000 items...\n",
      "Upserted 44697/50000 items...\n",
      "Upserted 45014/50000 items...\n",
      "Upserted 45331/50000 items...\n",
      "Upserted 45648/50000 items...\n",
      "Upserted 45965/50000 items...\n",
      "Upserted 46282/50000 items...\n",
      "Upserted 46599/50000 items...\n",
      "Upserted 46916/50000 items...\n",
      "Upserted 47233/50000 items...\n",
      "Upserted 47550/50000 items...\n",
      "Upserted 47867/50000 items...\n",
      "Upserted 48184/50000 items...\n",
      "Upserted 48501/50000 items...\n",
      "Upserted 48818/50000 items...\n",
      "Upserted 49135/50000 items...\n",
      "Upserted 49452/50000 items...\n",
      "Upserted 49769/50000 items...\n",
      "Upserted 50000/50000 items...\n",
      "Upsert complete!\n",
      "Upsertion response time: 582.83 seconds\n"
     ]
    }
   ],
   "source": [
    "ids = [str(i) for i in range(1, len(duplicated_chunks) + 1)]\n",
    "data_for_upsert = [\n",
    "    {\"id\": str(id), \"values\": emb, \"metadata\": {\"text\": chunk}}\n",
    "    for id, (chunk, emb) in zip(ids, zip(duplicated_chunks, duplicated_embeddings))\n",
    "]\n",
    "\n",
    "start_time = time.time()\n",
    "\n",
    "batch_upsert(data_for_upsert)\n",
    "\n",
    "response_time = time.time() - start_time\n",
    "\n",
    "print(f\"Upsertion response time: {response_time:.2f} seconds\")"
   ]
  },
  {
   "cell_type": "code",
   "execution_count": 35,
   "metadata": {},
   "outputs": [
    {
     "name": "stdout",
     "output_type": "stream",
     "text": [
      "Index stats\n",
      "{'dimension': 1536,\n",
      " 'index_fullness': 0.0,\n",
      " 'metric': 'cosine',\n",
      " 'namespaces': {'': {'vector_count': 50000}},\n",
      " 'total_vector_count': 50000,\n",
      " 'vector_type': 'dense'}\n"
     ]
    }
   ],
   "source": [
    "print(\"Index stats\")\n",
    "print(index.describe_index_stats(include_metadata=True))"
   ]
  },
  {
   "cell_type": "code",
   "execution_count": 36,
   "metadata": {},
   "outputs": [],
   "source": [
    "def display_results(query_results):\n",
    "    for match in query_results['matches']:\n",
    "        print(f\"ID: {match['id']}, Score: {match['score']}\")\n",
    "        if 'metadata' in match and 'text' in match['metadata']:\n",
    "            print(f\"Text: {match['metadata']['text']}\")\n",
    "        else:\n",
    "            print(\"No text available\")"
   ]
  },
  {
   "cell_type": "code",
   "execution_count": 37,
   "metadata": {},
   "outputs": [],
   "source": [
    "embedding_model = \"text-embedding-3-small\"\n",
    "\n",
    "def get_embedding(text, model=embedding_model):\n",
    "    text = text.replace(\"\\n\", \" \")\n",
    "    response = client.embeddings.create(input=[text], model=model)\n",
    "    embedding = response.data[0].embedding\n",
    "    return embedding"
   ]
  },
  {
   "cell_type": "code",
   "execution_count": 38,
   "metadata": {},
   "outputs": [
    {
     "name": "stdout",
     "output_type": "stream",
     "text": [
      "Querying vector store\n",
      "processed query results\n",
      "ID: 1686, Score: 0.824388742\n",
      "Text: CustomerId: 15648064 CreditScore: 649 Age: 33 Tenure: 2 Balance: 0.0 NumOfProducts: 2 HasCrCard: 1 IsActiveMember: 0 EstimatedSalary: 2010.98 Exited: 0 Complain: 0 Satisfaction Score: 3 Card Type: DIAMOND Point Earned: 720\n",
      "Querying response time: 0.94 seconds\n"
     ]
    }
   ],
   "source": [
    "import openai\n",
    "# Initialize the OpenAI client\n",
    "client = openai.OpenAI()\n",
    "\n",
    "print(\"Querying vector store\")\n",
    "start_time = time.time()  # Start timing before the request\n",
    "query_text = \"Customer Robertson CreditScore 632Age 21 Tenure 2Balance 0.0NumOfProducts 1HasCrCard 1IsActiveMember 1EstimatedSalary 99000 Exited 1Complain 1Satisfaction Score 2Card Type DIAMONDPoint Earned 399\"\n",
    "query_embedding = get_embedding(query_text,model=embedding_model)\n",
    "query_results = index.query(vector=query_embedding, top_k=1, include_metadata=True)  # Request metadata\n",
    "#print(\"raw query_results\",query_results)\n",
    "print(\"processed query results\")\n",
    "display_results(query_results) #display results\n",
    "response_time = time.time() - start_time              # Measure response time\n",
    "print(f\"Querying response time: {response_time:.2f} seconds\")  # Print response time"
   ]
  },
  {
   "cell_type": "code",
   "execution_count": null,
   "metadata": {},
   "outputs": [],
   "source": []
  }
 ],
 "metadata": {
  "kernelspec": {
   "display_name": "Python 3",
   "language": "python",
   "name": "python3"
  },
  "language_info": {
   "codemirror_mode": {
    "name": "ipython",
    "version": 3
   },
   "file_extension": ".py",
   "mimetype": "text/x-python",
   "name": "python",
   "nbconvert_exporter": "python",
   "pygments_lexer": "ipython3",
   "version": "3.11.11"
  }
 },
 "nbformat": 4,
 "nbformat_minor": 2
}
