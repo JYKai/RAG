{
 "cells": [
  {
   "cell_type": "code",
   "execution_count": 3,
   "metadata": {},
   "outputs": [
    {
     "data": {
      "text/plain": [
       "True"
      ]
     },
     "execution_count": 3,
     "metadata": {},
     "output_type": "execute_result"
    }
   ],
   "source": [
    "import os\n",
    "from dotenv import load_dotenv\n",
    "\n",
    "load_dotenv()"
   ]
  },
  {
   "cell_type": "code",
   "execution_count": 1,
   "metadata": {},
   "outputs": [],
   "source": [
    "vector_store_path = \"hub://secufibre/space_exploration_v1\""
   ]
  },
  {
   "cell_type": "code",
   "execution_count": 2,
   "metadata": {},
   "outputs": [
    {
     "name": "stdout",
     "output_type": "stream",
     "text": [
      "This dataset can be visualized in Jupyter Notebook by ds.visualize() or at https://app.activeloop.ai/secufibre/space_exploration_v1\n",
      "\n"
     ]
    },
    {
     "name": "stderr",
     "output_type": "stream",
     "text": [
      " \r"
     ]
    },
    {
     "name": "stdout",
     "output_type": "stream",
     "text": [
      "hub://secufibre/space_exploration_v1 loaded successfully.\n",
      "\n"
     ]
    },
    {
     "name": "stderr",
     "output_type": "stream",
     "text": [
      " "
     ]
    }
   ],
   "source": [
    "from deeplake.core.vectorstore.deeplake_vectorstore import VectorStore\n",
    "import deeplake.util\n",
    "\n",
    "ds = deeplake.load(vector_store_path)"
   ]
  },
  {
   "cell_type": "code",
   "execution_count": 4,
   "metadata": {},
   "outputs": [
    {
     "name": "stdout",
     "output_type": "stream",
     "text": [
      "Deep Lake Dataset in hub://secufibre/space_exploration_v1 already exists, loading from the storage\n"
     ]
    }
   ],
   "source": [
    "vector_store = VectorStore(path=vector_store_path)"
   ]
  },
  {
   "cell_type": "code",
   "execution_count": 5,
   "metadata": {},
   "outputs": [],
   "source": [
    "import openai\n",
    "\n",
    "def embedding_function(texts, model=\"text-embedding-3-small\"):\n",
    "    if isinstance(texts, str):\n",
    "        texts = [texts]\n",
    "    texts = [t.replace(\"\\n\", \" \") for t in texts]\n",
    "    return [data.embedding for data in openai.embeddings.create(input=texts, model=model).data]"
   ]
  },
  {
   "cell_type": "code",
   "execution_count": 6,
   "metadata": {},
   "outputs": [],
   "source": [
    "def get_user_prompt():\n",
    "    return input(\"Enter your search query: \")\n",
    "\n",
    "user_prompt = \"Tell me about space exploration on the Moon and Mars\""
   ]
  },
  {
   "cell_type": "code",
   "execution_count": 7,
   "metadata": {},
   "outputs": [],
   "source": [
    "search_results = vector_store.search(embedding_data=user_prompt,\n",
    "                                     embedding_function=embedding_function)"
   ]
  },
  {
   "cell_type": "code",
   "execution_count": 8,
   "metadata": {},
   "outputs": [
    {
     "name": "stdout",
     "output_type": "stream",
     "text": [
      "{'id': ['f34e422e-1050-11f0-9390-107c61642715', 'f34e8f86-1050-11f0-9390-107c61642715', 'f34e4bde-1050-11f0-9390-107c61642715', 'f34e9a8a-1050-11f0-9390-107c61642715'], 'metadata': [{'source': 'llm.txt'}, {'source': 'llm.txt'}, {'source': 'llm.txt'}, {'source': 'llm.txt'}], 'text': [\"Exploration of space, planets, and moons For broader coverage of this topic, see Exploration . Buzz Aldrin taking a core sample of the Moon during the Apollo 11 mission Self-portrait of Curiosity rover on Mars 's surface Part of a series on Spaceflight History History of spaceflight Space Race Timeline of spaceflight Space probes Lunar missions Mars missions Applications Communications Earth observation Exploration Espionage Military Navigation Colonization Habitation Exploration Telescopes Tourism Spacecraft Robotic spacecraft Satellite Space probe Cargo spacecraft Crewed spacecraft Apollo Lunar Module Space capsules Space Shuttle Space stations Spaceplanes Vostok Space launch Spaceport Launch pad Expendable and reusable launch vehicles Escape velocity Non-rocket spacelaunch Spaceflight types Sub-orbital Orbital Interplanetary Interstellar Intergalactic List of space organizations Space agencies Space forces Companies Spaceflight portal v t e Space exploration is the use of astronomy \", 'bserver Lunokhod 3 MoonLITE MoonRise OrbitBeyond Project Harvest Moon Prospector Resource Prospector SELENE-2 Ukrselena XL-1 VIPER Related Colonization of the Moon Google Lunar X Prize List of lunar probes List of missions to the Moon List of artificial objects on the Moon List of species that have landed on the Moon Lunar resources Apollo 17 Moon mice Moon landing conspiracy theories Third-party evidence for Apollo Moon landings Apollo 11 anniversaries List of crewed lunar landers Missions are ordered by launch date. Crewed missions are in italics . v t e United States human spaceflight programs Active Artemis International Space Station Commercial Crew Completed X-15 Mercury Gemini Apollo Apollo Applications Skylab Apollo–Soyuz Space Shuttle Shuttle- Mir Canceled Constellation Dyna-Soar HL-20 Personnel Launch System Man in Space Soonest Manned Orbiting Laboratory Nova Orbital Space Plane Orion (nuclear) NASP Freedom Portals : Astronomy Stars Spaceflight Outer space Solar System Unite', \" spacecraft Satellite Space probe Lander Rover Self-replicating spacecraft Space telescope Spacecraft propulsion Rocket engine Electric propulsion Solar sail Gravity assist Destinations Sub-orbital Orbital Geocentric Geosynchronous Interplanetary Interstellar Intergalactic Space launch Direct ascent Escape velocity Expendable and reusable launch systems Launch pad Non-rocket spacelaunch Spaceport Ground segment Flight controller Ground station Pass Mission control center Category Portal v t e Space missions by destination Planets Mercury Venus Mars Outer planets Jupiter Saturn Uranus Neptune Others The Sun The Moon lunar probes Minor planets Comets Orbiters Extraterrestrial orbiters Mars orbiters Objects in heliocentric orbit Authority control databases : National United States Japan Israel\\n\\n\\nRobotic vehicle for Mars surface exploration This article is about autonomous exploration vehicles. For crewed vehicles on Mars, see Crewed Mars rover . NASA's Curiosity rover, selfie , 2015 A Mar\", ' Pioneer Planetary Observer Ranger Surveyor Viking Project Prometheus Mars Exploration Mars Exploration Rover Current Living With a Star Lunar Precursor Robotic Program Earth Observing System Great Observatories program Explorers Voyager Discovery New Frontiers Solar Terrestrial Probes Commercial Lunar Payload Services SIMPLEx Individual featured missions (human and robotic) Past Apollo 11 COBE Mercury 3 Mercury-Atlas 6 Magellan Pioneer 10 Pioneer 11 Galileo timeline GALEX GRAIL WMAP Space Shuttle Spitzer Space Telescope Sojourner rover Spirit rover LADEE MESSENGER Aquarius Cassini Dawn Kepler space telescope Opportunity rover timeline observed RHESSI InSight Ingenuity helicopter flights Currently operating Mars Reconnaissance Orbiter 2001 Mars Odyssey New Horizons International Space Station Hubble Space Telescope Chandra X-ray Observatory Swift THEMIS Mars Exploration Rover Curiosity rover timeline GOES 14 Lunar Reconnaissance Orbiter GOES 15 SDO Juno Mars Science Laboratory timeline'], 'score': array([0.623908  , 0.5791004 , 0.57289636, 0.5683302 ], dtype=float32)}\n"
     ]
    }
   ],
   "source": [
    "print(search_results)"
   ]
  },
  {
   "cell_type": "code",
   "execution_count": 9,
   "metadata": {},
   "outputs": [],
   "source": [
    "def wrap_text(text, width=100):\n",
    "    lines = []\n",
    "    while len(text) > width:\n",
    "        split_index = text.rfind(' ', 0, width)\n",
    "        if split_index == -1:\n",
    "            split_index = width\n",
    "        lines.append(text[:split_index])\n",
    "        text = text[split_index:].strip()\n",
    "    lines.append(text)\n",
    "    return '\\n'.join(lines)"
   ]
  },
  {
   "cell_type": "code",
   "execution_count": 10,
   "metadata": {},
   "outputs": [
    {
     "name": "stdout",
     "output_type": "stream",
     "text": [
      "Top Search Result:\n",
      "Score: 0.62\n",
      "Source: llm.txt\n",
      "Text:\n",
      "Exploration of space, planets, and moons For broader coverage of this topic, see Exploration . Buzz\n",
      "Aldrin taking a core sample of the Moon during the Apollo 11 mission Self-portrait of Curiosity\n",
      "rover on Mars 's surface Part of a series on Spaceflight History History of spaceflight Space Race\n",
      "Timeline of spaceflight Space probes Lunar missions Mars missions Applications Communications Earth\n",
      "observation Exploration Espionage Military Navigation Colonization Habitation Exploration\n",
      "Telescopes Tourism Spacecraft Robotic spacecraft Satellite Space probe Cargo spacecraft Crewed\n",
      "spacecraft Apollo Lunar Module Space capsules Space Shuttle Space stations Spaceplanes Vostok Space\n",
      "launch Spaceport Launch pad Expendable and reusable launch vehicles Escape velocity Non-rocket\n",
      "spacelaunch Spaceflight types Sub-orbital Orbital Interplanetary Interstellar Intergalactic List of\n",
      "space organizations Space agencies Space forces Companies Spaceflight portal v t e Space\n",
      "exploration is the use of astronomy\n",
      "\n",
      "\n"
     ]
    }
   ],
   "source": [
    "import textwrap\n",
    "\n",
    "top_score = search_results['score'][0]\n",
    "top_text = search_results['text'][0].strip()\n",
    "top_metadata = search_results['metadata'][0]['source']\n",
    "\n",
    "print(\"Top Search Result:\")\n",
    "print(f\"Score: {top_score:.2f}\")\n",
    "print(f\"Source: {top_metadata}\")\n",
    "print(\"Text:\")\n",
    "print(wrap_text(top_text))\n",
    "print(\"\\n\")"
   ]
  },
  {
   "cell_type": "code",
   "execution_count": 11,
   "metadata": {},
   "outputs": [
    {
     "name": "stdout",
     "output_type": "stream",
     "text": [
      "Tell me about space exploration on the Moon and Mars Exploration of space, planets, and moons For broader coverage of this topic, see Exploration . Buzz Aldrin taking a core sample of the Moon during the Apollo 11 mission Self-portrait of Curiosity rover on Mars 's surface Part of a series on Spaceflight History History of spaceflight Space Race Timeline of spaceflight Space probes Lunar missions Mars missions Applications Communications Earth observation Exploration Espionage Military Navigation Colonization Habitation Exploration Telescopes Tourism Spacecraft Robotic spacecraft Satellite Space probe Cargo spacecraft Crewed spacecraft Apollo Lunar Module Space capsules Space Shuttle Space stations Spaceplanes Vostok Space launch Spaceport Launch pad Expendable and reusable launch vehicles Escape velocity Non-rocket spacelaunch Spaceflight types Sub-orbital Orbital Interplanetary Interstellar Intergalactic List of space organizations Space agencies Space forces Companies Spaceflight portal v t e Space exploration is the use of astronomy\n"
     ]
    }
   ],
   "source": [
    "augmented_input = user_prompt + \" \" + top_text\n",
    "print(augmented_input)"
   ]
  },
  {
   "cell_type": "code",
   "execution_count": 12,
   "metadata": {},
   "outputs": [
    {
     "name": "stdout",
     "output_type": "stream",
     "text": [
      "Response Time: 13.36 seconds\n",
      "gpt-4o Response: Space exploration is a vast and multifaceted field that involves the study and exploration of outer space, including planets, moons, and other celestial bodies. It encompasses a wide range of activities and technologies aimed at understanding the universe beyond Earth. Here are some key aspects of space exploration, particularly focusing on the Moon and Mars:\n",
      "\n",
      "### Moon Exploration\n",
      "- **Historical Missions**: The Moon has been a primary target for space exploration since the early days of spaceflight. The Apollo missions, particularly Apollo 11, marked significant milestones with humans landing on the Moon. Buzz Aldrin, one of the astronauts on Apollo 11, famously took core samples of the lunar surface.\n",
      "- **Lunar Missions**: Various missions have been launched to study the Moon, including both crewed and uncrewed missions. These missions aim to understand the Moon's geology, potential resources, and its suitability for future human habitation.\n",
      "- **Future Plans**: There are ongoing plans for returning humans to the Moon, such as NASA's Artemis program, which aims to establish a sustainable human presence on the Moon by the end of the decade.\n",
      "\n",
      "### Mars Exploration\n",
      "- **Rovers and Probes**: Mars has been a focal point for robotic exploration. The Curiosity rover, for example, has been exploring the Martian surface, conducting scientific experiments, and sending back valuable data about the planet's geology and climate.\n",
      "- **Mars Missions**: Numerous missions have been sent to Mars, including orbiters, landers, and rovers, to study its atmosphere, surface, and potential for past or present life.\n",
      "- **Human Missions**: There is significant interest in sending humans to Mars, with various space agencies and private companies working on the technology and plans needed to achieve this goal.\n",
      "\n",
      "### Broader Space Exploration\n",
      "- **Spaceflight History**: The history of spaceflight includes the Space Race, the development of space probes, and the evolution of space technology.\n",
      "- **Applications**: Space exploration has numerous applications, including communications, Earth observation, navigation, and scientific research.\n",
      "- **Spacecraft and Technology**: The development of various types of spacecraft, such as robotic spacecraft, satellites, and crewed vehicles, is crucial for space exploration. This includes the use of space capsules, space shuttles, and space stations.\n",
      "- **Launch Vehicles**: Space exploration relies on expendable and reusable launch vehicles to transport payloads into space. Innovations in launch technology continue to evolve, including non-rocket space launch concepts.\n",
      "- **Space Organizations**: Numerous organizations, including space agencies, space forces, and private companies, are involved in space exploration. These entities collaborate and compete to advance our understanding of space.\n",
      "\n",
      "Space exploration is driven by the use of astronomy and other scientific disciplines to expand our knowledge of the universe, develop new technologies, and explore the potential for human habitation beyond Earth.\n"
     ]
    }
   ],
   "source": [
    "import time\n",
    "import openai\n",
    "from openai import OpenAI\n",
    "\n",
    "client = OpenAI()\n",
    "gpt_model = \"gpt-4o\"\n",
    "start_time = time.time()\n",
    "\n",
    "def call_gpt4_with_full_text(itext):\n",
    "    # Join all lines to form a single string\n",
    "    text_input = '\\n'.join(itext)\n",
    "    prompt = f\"Please summarize or elaborate on the following content:\\n{text_input}\"\n",
    "\n",
    "    try:\n",
    "        response = client.chat.completions.create(\n",
    "            model=gpt_model,\n",
    "            messages=[\n",
    "                {\"role\": \"system\", \"content\": \"You are a space exploration expert.\"},\n",
    "                {\"role\": \"assistant\", \"content\": \"You can read the input and answer in detail.\"},\n",
    "                {\"role\": \"user\", \"content\": prompt}\n",
    "            ],\n",
    "            temperature=0.1  # Fine-tune parameters as needed\n",
    "        )\n",
    "        return response.choices[0].message.content\n",
    "    except Exception as e:\n",
    "        return str(e)\n",
    "    \n",
    "gpt4_response = call_gpt4_with_full_text(augmented_input)\n",
    "\n",
    "response_time = time.time() - start_time\n",
    "print(f\"Response Time: {response_time:.2f} seconds\")\n",
    "print(gpt_model, \"Response:\", gpt4_response)"
   ]
  },
  {
   "cell_type": "code",
   "execution_count": 13,
   "metadata": {},
   "outputs": [
    {
     "data": {
      "text/html": [
       "<p>Space exploration is a vast and multifaceted field that involves the study and exploration of outer space, including planets, moons, and other celestial bodies. It encompasses a wide range of activities and technologies aimed at understanding the universe beyond Earth. Here are some key aspects of space exploration, particularly focusing on the Moon and Mars:</p>\n",
       "<h3>Moon Exploration</h3>\n",
       "<ul>\n",
       "<li><strong>Historical Missions</strong>: The Moon has been a primary target for space exploration since the early days of spaceflight. The Apollo missions, particularly Apollo 11, marked significant milestones with humans landing on the Moon. Buzz Aldrin, one of the astronauts on Apollo 11, famously took core samples of the lunar surface.</li>\n",
       "<li><strong>Lunar Missions</strong>: Various missions have been launched to study the Moon, including both crewed and uncrewed missions. These missions aim to understand the Moon's geology, potential resources, and its suitability for future human habitation.</li>\n",
       "<li><strong>Future Plans</strong>: There are ongoing plans for returning humans to the Moon, such as NASA's Artemis program, which aims to establish a sustainable human presence on the Moon by the end of the decade.</li>\n",
       "</ul>\n",
       "<h3>Mars Exploration</h3>\n",
       "<ul>\n",
       "<li><strong>Rovers and Probes</strong>: Mars has been a focal point for robotic exploration. The Curiosity rover, for example, has been exploring the Martian surface, conducting scientific experiments, and sending back valuable data about the planet's geology and climate.</li>\n",
       "<li><strong>Mars Missions</strong>: Numerous missions have been sent to Mars, including orbiters, landers, and rovers, to study its atmosphere, surface, and potential for past or present life.</li>\n",
       "<li><strong>Human Missions</strong>: There is significant interest in sending humans to Mars, with various space agencies and private companies working on the technology and plans needed to achieve this goal.</li>\n",
       "</ul>\n",
       "<h3>Broader Space Exploration</h3>\n",
       "<ul>\n",
       "<li><strong>Spaceflight History</strong>: The history of spaceflight includes the Space Race, the development of space probes, and the evolution of space technology.</li>\n",
       "<li><strong>Applications</strong>: Space exploration has numerous applications, including communications, Earth observation, navigation, and scientific research.</li>\n",
       "<li><strong>Spacecraft and Technology</strong>: The development of various types of spacecraft, such as robotic spacecraft, satellites, and crewed vehicles, is crucial for space exploration. This includes the use of space capsules, space shuttles, and space stations.</li>\n",
       "<li><strong>Launch Vehicles</strong>: Space exploration relies on expendable and reusable launch vehicles to transport payloads into space. Innovations in launch technology continue to evolve, including non-rocket space launch concepts.</li>\n",
       "<li><strong>Space Organizations</strong>: Numerous organizations, including space agencies, space forces, and private companies, are involved in space exploration. These entities collaborate and compete to advance our understanding of space.</li>\n",
       "</ul>\n",
       "<p>Space exploration is driven by the use of astronomy and other scientific disciplines to expand our knowledge of the universe, develop new technologies, and explore the potential for human habitation beyond Earth.</p>"
      ],
      "text/plain": [
       "<IPython.core.display.HTML object>"
      ]
     },
     "metadata": {},
     "output_type": "display_data"
    }
   ],
   "source": [
    "import re\n",
    "import markdown\n",
    "import textwrap\n",
    "\n",
    "from IPython.display import display, Markdown, HTML\n",
    "\n",
    "def print_formatted_response(response):\n",
    "    markdown_patterns = [\n",
    "        r\"^#+\\s\",           # Headers\n",
    "        r\"^\\*+\",            # Bullet points\n",
    "        r\"\\*\\*\",            # Bold\n",
    "        r\"_\",               # Italics\n",
    "        r\"\\[.+\\]\\(.+\\)\",    # Links\n",
    "        r\"-\\s\",             # Dashes used for lists\n",
    "        r\"\\`\\`\\`\"           # Code blocks\n",
    "    ]\n",
    "    \n",
    "    if any(re.search(pattern, response, re.MULTILINE) for pattern in markdown_patterns):\n",
    "        html_output = markdown.markdown(response)\n",
    "        display(HTML(html_output))\n",
    "    else:\n",
    "        wrapper = textwrap.TextWrapper(width=100)\n",
    "        wrapped_text = wrapper.fill(response)\n",
    "\n",
    "        print(\"Text Response:\")\n",
    "        print(\"-\" * 100)\n",
    "        print(wrapped_text)\n",
    "        print(\"-\" * 100)\n",
    "\n",
    "print_formatted_response(gpt4_response)"
   ]
  },
  {
   "cell_type": "markdown",
   "metadata": {},
   "source": [
    "## Evaluating the output with Cosine Similarity"
   ]
  },
  {
   "cell_type": "code",
   "execution_count": 14,
   "metadata": {},
   "outputs": [],
   "source": [
    "from sklearn.feature_extraction.text import TfidfVectorizer\n",
    "from sklearn.metrics.pairwise import cosine_similarity\n",
    "\n",
    "def calculate_cosine_similarity(text1, text2):\n",
    "    vectorizer = TfidfVectorizer()\n",
    "    tfidf_matrix = vectorizer.fit_transform([text1, text2])\n",
    "    return cosine_similarity(tfidf_matrix[0:1], tfidf_matrix[1:2])[0][0]"
   ]
  },
  {
   "cell_type": "code",
   "execution_count": 15,
   "metadata": {},
   "outputs": [
    {
     "name": "stdout",
     "output_type": "stream",
     "text": [
      "Cosine Similarity Score: 0.48\n"
     ]
    }
   ],
   "source": [
    "similarity_score = calculate_cosine_similarity(user_prompt, gpt4_response)\n",
    "print(f\"Cosine Similarity Score: {similarity_score:.2f}\")\n"
   ]
  },
  {
   "cell_type": "code",
   "execution_count": 17,
   "metadata": {},
   "outputs": [
    {
     "name": "stdout",
     "output_type": "stream",
     "text": [
      "Cosine Similarity Score: 0.64\n"
     ]
    }
   ],
   "source": [
    "similarity_score = calculate_cosine_similarity(augmented_input, gpt4_response)\n",
    "print(f\"Cosine Similarity Score: {similarity_score:.2f}\")\n"
   ]
  },
  {
   "cell_type": "code",
   "execution_count": 18,
   "metadata": {},
   "outputs": [
    {
     "name": "stdout",
     "output_type": "stream",
     "text": [
      "Cosine Similarity Score: 0.78\n"
     ]
    }
   ],
   "source": [
    "from sentence_transformers import SentenceTransformer\n",
    "\n",
    "model = SentenceTransformer('all-MiniLM-L6-v2')\n",
    "\n",
    "def calculate_cosine_similarity_with_embeddings(text1, text2):\n",
    "    embedding1 = model.encode(text1)\n",
    "    embedding2 = model.encode(text2)\n",
    "    similarity = cosine_similarity([embedding1], [embedding2])\n",
    "    return similarity[0][0]\n",
    "\n",
    "similarity_score = calculate_cosine_similarity_with_embeddings(augmented_input, gpt4_response)\n",
    "print(f\"Cosine Similarity Score: {similarity_score:.2f}\")"
   ]
  },
  {
   "cell_type": "code",
   "execution_count": null,
   "metadata": {},
   "outputs": [],
   "source": []
  }
 ],
 "metadata": {
  "kernelspec": {
   "display_name": "Python 3",
   "language": "python",
   "name": "python3"
  },
  "language_info": {
   "codemirror_mode": {
    "name": "ipython",
    "version": 3
   },
   "file_extension": ".py",
   "mimetype": "text/x-python",
   "name": "python",
   "nbconvert_exporter": "python",
   "pygments_lexer": "ipython3",
   "version": "3.11.11"
  }
 },
 "nbformat": 4,
 "nbformat_minor": 2
}
